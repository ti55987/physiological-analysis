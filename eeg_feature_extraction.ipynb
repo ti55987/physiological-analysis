{
 "cells": [
  {
   "cell_type": "code",
   "execution_count": null,
   "metadata": {},
   "outputs": [],
   "source": [
    "import os\n",
    "import pandas as pd\n",
    "import numpy as np\n",
    "import matplotlib.pyplot as plt\n",
    "import seaborn as sns\n",
    "import pickle\n",
    "import random\n",
    "\n",
    "from data_utils.data_utils import load_data_from_dir, AUDIO_BLOCKS"
   ]
  },
  {
   "cell_type": "code",
   "execution_count": null,
   "metadata": {},
   "outputs": [],
   "source": [
    "from features.psd import get_psd_by_channel\n",
    "from features.constants import EEG_BANDS\n",
    "\n",
    "def get_block_features(\n",
    "    blocks, subject_data, marker, channel, feature,\n",
    "):\n",
    "    features = []\n",
    "    for b in blocks:\n",
    "        block_data = subject_data[b]\n",
    "        psd_data = get_psd_by_channel(block_data, marker, channel, feature)\n",
    "\n",
    "        features = np.vstack((psd_data, features)) if len(features) > 0 else psd_data\n",
    "    return features\n",
    "\n",
    "def get_eeg_channel_feature_to_data(\n",
    "    subject_data, block_list, feature_list,\n",
    "):\n",
    "    channel_feature_to_data = {\"A\": {}, \"B\": {}, \"C\": {}, \"D\": {}}\n",
    "    for c in channel_feature_to_data.keys():\n",
    "        for f in feature_list:\n",
    "            raw_data = get_block_features(block_list, subject_data, \"EEG\", c, f)\n",
    "            channel_feature_to_data[c][f.name] = raw_data\n",
    "\n",
    "    return channel_feature_to_data\n",
    "\n",
    "def get_user_rating_raw_labels(subject_data, blocks):\n",
    "    v_labels, a_labels, attention_labels = [], [], []\n",
    "    for b in blocks:\n",
    "        block_data = subject_data[b]\n",
    "        v_labels.extend(block_data.get_labels().flatten())\n",
    "        a_labels.extend(block_data.get_labels('arousal').flatten())\n",
    "        attention_labels.extend(block_data.get_labels('attention').flatten())\n",
    "\n",
    "    return v_labels, a_labels, attention_labels"
   ]
  },
  {
   "cell_type": "markdown",
   "metadata": {},
   "source": [
    "# Extract EEG spectral features"
   ]
  },
  {
   "cell_type": "code",
   "execution_count": null,
   "metadata": {},
   "outputs": [],
   "source": [
    "data_dir = \"../data/\"  # Replace with your own data dir\n",
    "\n",
    "subject_lists = []\n",
    "valence_labels, arousal_labels, label_thresholds = [], [], []\n",
    "marker_features = []\n",
    "for i, d in enumerate(os.listdir(data_dir)):\n",
    "    dir_name = data_dir + d\n",
    "    if not os.path.isdir(dir_name):\n",
    "        continue\n",
    "\n",
    "    subject_data = load_data_from_dir(dir_name)\n",
    "    features = get_eeg_channel_feature_to_data(\n",
    "        subject_data, AUDIO_BLOCKS, EEG_BANDS.keys(),\n",
    "    )\n",
    "    marker_features.append(features)\n",
    "    subject_lists.append(d)\n",
    "    # get user rating valence and arousal\n",
    "    vl, arl, _ = get_user_rating_raw_labels(subject_data, AUDIO_BLOCKS)\n",
    "    valence_labels.append(vl)\n",
    "    arousal_labels.append(arl)\n",
    "    label_thresholds.append((np.mean(vl), np.mean(arl)))"
   ]
  },
  {
   "cell_type": "markdown",
   "metadata": {},
   "source": [
    "Optional store your features/labels"
   ]
  },
  {
   "cell_type": "code",
   "execution_count": null,
   "metadata": {},
   "outputs": [],
   "source": [
    "with open(f\"result/eeg_features.pkl\", \"wb\") as handle:\n",
    "    d = {\"eeg_features\": marker_features}\n",
    "    pickle.dump(d, handle, protocol=pickle.HIGHEST_PROTOCOL)\n",
    "\n",
    "with open(f\"result/behavioral_labels.pkl\", \"wb\") as handle:\n",
    "    d = {\n",
    "        \"valence_labels\": valence_labels,\n",
    "        \"arousal_labels\": arousal_labels,\n",
    "        \"label_thresholds\": label_thresholds,\n",
    "    }\n",
    "    pickle.dump(d, handle, protocol=pickle.HIGHEST_PROTOCOL)"
   ]
  },
  {
   "cell_type": "markdown",
   "metadata": {},
   "source": [
    "# Model training with CEBRA + KNN"
   ]
  },
  {
   "cell_type": "code",
   "execution_count": null,
   "metadata": {},
   "outputs": [],
   "source": []
  }
 ],
 "metadata": {
  "language_info": {
   "name": "python"
  }
 },
 "nbformat": 4,
 "nbformat_minor": 2
}
